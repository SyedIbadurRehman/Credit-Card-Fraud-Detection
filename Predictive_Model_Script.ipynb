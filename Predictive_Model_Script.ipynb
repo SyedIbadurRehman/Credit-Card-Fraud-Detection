{
 "cells": [
  {
   "attachments": {},
   "cell_type": "markdown",
   "metadata": {},
   "source": [
    "Importing the libraires"
   ]
  },
  {
   "cell_type": "code",
   "execution_count": 2,
   "metadata": {},
   "outputs": [
    {
     "name": "stderr",
     "output_type": "stream",
     "text": [
      "2023-08-09 11:20:12.239701: I tensorflow/tsl/cuda/cudart_stub.cc:28] Could not find cuda drivers on your machine, GPU will not be used.\n",
      "2023-08-09 11:20:12.446251: I tensorflow/tsl/cuda/cudart_stub.cc:28] Could not find cuda drivers on your machine, GPU will not be used.\n",
      "2023-08-09 11:20:12.447727: I tensorflow/core/platform/cpu_feature_guard.cc:182] This TensorFlow binary is optimized to use available CPU instructions in performance-critical operations.\n",
      "To enable the following instructions: AVX2 FMA, in other operations, rebuild TensorFlow with the appropriate compiler flags.\n",
      "2023-08-09 11:20:14.012914: W tensorflow/compiler/tf2tensorrt/utils/py_utils.cc:38] TF-TRT Warning: Could not find TensorRT\n"
     ]
    }
   ],
   "source": [
    "import pandas as pd\n",
    "import numpy as np\n",
    "from sklearn.model_selection import train_test_split\n",
    "from sklearn.linear_model import LogisticRegression\n",
    "from sklearn.tree import DecisionTreeClassifier\n",
    "from sklearn.ensemble import RandomForestClassifier\n",
    "import xgboost as xgb\n",
    "import lightgbm as lgb\n",
    "from sklearn.metrics import accuracy_score\n",
    "from sklearn.metrics import confusion_matrix\n",
    "from sklearn.model_selection import cross_val_score\n",
    "import matplotlib.pyplot as plt\n",
    "from tensorflow import keras\n",
    "from tensorflow.keras import layers\n"
   ]
  },
  {
   "attachments": {},
   "cell_type": "markdown",
   "metadata": {},
   "source": [
    "Reading the File"
   ]
  },
  {
   "cell_type": "code",
   "execution_count": 3,
   "metadata": {},
   "outputs": [],
   "source": [
    "df=pd.read_csv('Feature_file.csv')"
   ]
  },
  {
   "cell_type": "code",
   "execution_count": 4,
   "metadata": {},
   "outputs": [],
   "source": [
    "y=df['Target']"
   ]
  },
  {
   "cell_type": "code",
   "execution_count": 5,
   "metadata": {},
   "outputs": [
    {
     "data": {
      "text/html": [
       "<div>\n",
       "<style scoped>\n",
       "    .dataframe tbody tr th:only-of-type {\n",
       "        vertical-align: middle;\n",
       "    }\n",
       "\n",
       "    .dataframe tbody tr th {\n",
       "        vertical-align: top;\n",
       "    }\n",
       "\n",
       "    .dataframe thead th {\n",
       "        text-align: right;\n",
       "    }\n",
       "</style>\n",
       "<table border=\"1\" class=\"dataframe\">\n",
       "  <thead>\n",
       "    <tr style=\"text-align: right;\">\n",
       "      <th></th>\n",
       "      <th>Target</th>\n",
       "    </tr>\n",
       "  </thead>\n",
       "  <tbody>\n",
       "    <tr>\n",
       "      <th>0</th>\n",
       "      <td>0</td>\n",
       "    </tr>\n",
       "    <tr>\n",
       "      <th>1</th>\n",
       "      <td>0</td>\n",
       "    </tr>\n",
       "    <tr>\n",
       "      <th>2</th>\n",
       "      <td>0</td>\n",
       "    </tr>\n",
       "    <tr>\n",
       "      <th>3</th>\n",
       "      <td>0</td>\n",
       "    </tr>\n",
       "    <tr>\n",
       "      <th>4</th>\n",
       "      <td>0</td>\n",
       "    </tr>\n",
       "    <tr>\n",
       "      <th>...</th>\n",
       "      <td>...</td>\n",
       "    </tr>\n",
       "    <tr>\n",
       "      <th>568625</th>\n",
       "      <td>1</td>\n",
       "    </tr>\n",
       "    <tr>\n",
       "      <th>568626</th>\n",
       "      <td>1</td>\n",
       "    </tr>\n",
       "    <tr>\n",
       "      <th>568627</th>\n",
       "      <td>1</td>\n",
       "    </tr>\n",
       "    <tr>\n",
       "      <th>568628</th>\n",
       "      <td>1</td>\n",
       "    </tr>\n",
       "    <tr>\n",
       "      <th>568629</th>\n",
       "      <td>1</td>\n",
       "    </tr>\n",
       "  </tbody>\n",
       "</table>\n",
       "<p>568630 rows × 1 columns</p>\n",
       "</div>"
      ],
      "text/plain": [
       "        Target\n",
       "0            0\n",
       "1            0\n",
       "2            0\n",
       "3            0\n",
       "4            0\n",
       "...        ...\n",
       "568625       1\n",
       "568626       1\n",
       "568627       1\n",
       "568628       1\n",
       "568629       1\n",
       "\n",
       "[568630 rows x 1 columns]"
      ]
     },
     "execution_count": 5,
     "metadata": {},
     "output_type": "execute_result"
    }
   ],
   "source": [
    "Y=pd.DataFrame(y)\n",
    "Y"
   ]
  },
  {
   "attachments": {},
   "cell_type": "markdown",
   "metadata": {},
   "source": [
    "Droppping out the Target and Time features from the file "
   ]
  },
  {
   "cell_type": "code",
   "execution_count": 6,
   "metadata": {},
   "outputs": [],
   "source": [
    "df.drop(['Target'],axis=1,inplace=True)\n",
    "df.drop(['Unnamed: 0'],axis=1,inplace=True)\n",
    "df.drop(['Time'],axis=1,inplace=True)"
   ]
  },
  {
   "cell_type": "code",
   "execution_count": 7,
   "metadata": {},
   "outputs": [],
   "source": [
    "X=df"
   ]
  },
  {
   "cell_type": "code",
   "execution_count": 8,
   "metadata": {},
   "outputs": [
    {
     "data": {
      "text/html": [
       "<div>\n",
       "<style scoped>\n",
       "    .dataframe tbody tr th:only-of-type {\n",
       "        vertical-align: middle;\n",
       "    }\n",
       "\n",
       "    .dataframe tbody tr th {\n",
       "        vertical-align: top;\n",
       "    }\n",
       "\n",
       "    .dataframe thead th {\n",
       "        text-align: right;\n",
       "    }\n",
       "</style>\n",
       "<table border=\"1\" class=\"dataframe\">\n",
       "  <thead>\n",
       "    <tr style=\"text-align: right;\">\n",
       "      <th></th>\n",
       "      <th>V1</th>\n",
       "      <th>V2</th>\n",
       "      <th>V3</th>\n",
       "      <th>V4</th>\n",
       "      <th>V5</th>\n",
       "      <th>V6</th>\n",
       "      <th>V7</th>\n",
       "      <th>V8</th>\n",
       "      <th>V9</th>\n",
       "      <th>V10</th>\n",
       "      <th>...</th>\n",
       "      <th>V20</th>\n",
       "      <th>V21</th>\n",
       "      <th>V22</th>\n",
       "      <th>V23</th>\n",
       "      <th>V24</th>\n",
       "      <th>V25</th>\n",
       "      <th>V26</th>\n",
       "      <th>V27</th>\n",
       "      <th>V28</th>\n",
       "      <th>V29</th>\n",
       "    </tr>\n",
       "  </thead>\n",
       "  <tbody>\n",
       "    <tr>\n",
       "      <th>0</th>\n",
       "      <td>-0.024107</td>\n",
       "      <td>-0.001001</td>\n",
       "      <td>0.052485</td>\n",
       "      <td>0.081667</td>\n",
       "      <td>-0.002974</td>\n",
       "      <td>0.006308</td>\n",
       "      <td>0.001987</td>\n",
       "      <td>0.001348</td>\n",
       "      <td>0.023327</td>\n",
       "      <td>0.003693</td>\n",
       "      <td>...</td>\n",
       "      <td>0.004613</td>\n",
       "      <td>-0.000526</td>\n",
       "      <td>0.025412</td>\n",
       "      <td>-0.002466</td>\n",
       "      <td>0.014599</td>\n",
       "      <td>0.012485</td>\n",
       "      <td>-0.053766</td>\n",
       "      <td>0.004225</td>\n",
       "      <td>-0.000622</td>\n",
       "      <td>0.005824</td>\n",
       "    </tr>\n",
       "    <tr>\n",
       "      <th>1</th>\n",
       "      <td>0.021129</td>\n",
       "      <td>0.003660</td>\n",
       "      <td>0.003445</td>\n",
       "      <td>0.026557</td>\n",
       "      <td>0.000528</td>\n",
       "      <td>-0.001124</td>\n",
       "      <td>-0.000653</td>\n",
       "      <td>0.001162</td>\n",
       "      <td>-0.016379</td>\n",
       "      <td>-0.006791</td>\n",
       "      <td>...</td>\n",
       "      <td>-0.001268</td>\n",
       "      <td>-0.006482</td>\n",
       "      <td>-0.058416</td>\n",
       "      <td>0.002261</td>\n",
       "      <td>-0.074129</td>\n",
       "      <td>0.016237</td>\n",
       "      <td>0.035792</td>\n",
       "      <td>-0.000284</td>\n",
       "      <td>0.000435</td>\n",
       "      <td>0.000105</td>\n",
       "    </tr>\n",
       "    <tr>\n",
       "      <th>2</th>\n",
       "      <td>-0.024081</td>\n",
       "      <td>-0.018430</td>\n",
       "      <td>0.036693</td>\n",
       "      <td>0.022505</td>\n",
       "      <td>-0.004424</td>\n",
       "      <td>0.024563</td>\n",
       "      <td>0.006563</td>\n",
       "      <td>0.003383</td>\n",
       "      <td>-0.097124</td>\n",
       "      <td>0.008445</td>\n",
       "      <td>...</td>\n",
       "      <td>0.009633</td>\n",
       "      <td>0.007120</td>\n",
       "      <td>0.070582</td>\n",
       "      <td>0.020296</td>\n",
       "      <td>-0.150349</td>\n",
       "      <td>-0.031824</td>\n",
       "      <td>-0.039546</td>\n",
       "      <td>-0.001751</td>\n",
       "      <td>-0.001765</td>\n",
       "      <td>0.014739</td>\n",
       "    </tr>\n",
       "    <tr>\n",
       "      <th>3</th>\n",
       "      <td>-0.017130</td>\n",
       "      <td>-0.002547</td>\n",
       "      <td>0.037102</td>\n",
       "      <td>-0.051157</td>\n",
       "      <td>-0.000091</td>\n",
       "      <td>0.017015</td>\n",
       "      <td>0.001970</td>\n",
       "      <td>0.005155</td>\n",
       "      <td>-0.088940</td>\n",
       "      <td>-0.002235</td>\n",
       "      <td>...</td>\n",
       "      <td>-0.003817</td>\n",
       "      <td>-0.003109</td>\n",
       "      <td>0.000482</td>\n",
       "      <td>-0.004247</td>\n",
       "      <td>-0.256421</td>\n",
       "      <td>0.062880</td>\n",
       "      <td>-0.063096</td>\n",
       "      <td>0.001984</td>\n",
       "      <td>0.001816</td>\n",
       "      <td>0.004807</td>\n",
       "    </tr>\n",
       "    <tr>\n",
       "      <th>4</th>\n",
       "      <td>-0.020533</td>\n",
       "      <td>0.012071</td>\n",
       "      <td>0.032048</td>\n",
       "      <td>0.023883</td>\n",
       "      <td>-0.003580</td>\n",
       "      <td>0.001309</td>\n",
       "      <td>0.004917</td>\n",
       "      <td>-0.003695</td>\n",
       "      <td>0.052436</td>\n",
       "      <td>0.030627</td>\n",
       "      <td>...</td>\n",
       "      <td>0.007497</td>\n",
       "      <td>-0.000271</td>\n",
       "      <td>0.073015</td>\n",
       "      <td>-0.003068</td>\n",
       "      <td>0.030814</td>\n",
       "      <td>-0.020010</td>\n",
       "      <td>0.142804</td>\n",
       "      <td>0.006941</td>\n",
       "      <td>0.006356</td>\n",
       "      <td>0.002724</td>\n",
       "    </tr>\n",
       "    <tr>\n",
       "      <th>...</th>\n",
       "      <td>...</td>\n",
       "      <td>...</td>\n",
       "      <td>...</td>\n",
       "      <td>...</td>\n",
       "      <td>...</td>\n",
       "      <td>...</td>\n",
       "      <td>...</td>\n",
       "      <td>...</td>\n",
       "      <td>...</td>\n",
       "      <td>...</td>\n",
       "      <td>...</td>\n",
       "      <td>...</td>\n",
       "      <td>...</td>\n",
       "      <td>...</td>\n",
       "      <td>...</td>\n",
       "      <td>...</td>\n",
       "      <td>...</td>\n",
       "      <td>...</td>\n",
       "      <td>...</td>\n",
       "      <td>...</td>\n",
       "      <td>...</td>\n",
       "    </tr>\n",
       "    <tr>\n",
       "      <th>568625</th>\n",
       "      <td>-0.198184</td>\n",
       "      <td>0.097552</td>\n",
       "      <td>-0.278165</td>\n",
       "      <td>0.518283</td>\n",
       "      <td>-0.087268</td>\n",
       "      <td>-0.037136</td>\n",
       "      <td>-0.118450</td>\n",
       "      <td>0.059652</td>\n",
       "      <td>-0.383488</td>\n",
       "      <td>-0.523990</td>\n",
       "      <td>...</td>\n",
       "      <td>-0.002571</td>\n",
       "      <td>0.032772</td>\n",
       "      <td>-0.014387</td>\n",
       "      <td>0.007168</td>\n",
       "      <td>0.141557</td>\n",
       "      <td>-0.054774</td>\n",
       "      <td>-0.116727</td>\n",
       "      <td>-0.029234</td>\n",
       "      <td>-0.005546</td>\n",
       "      <td>0.001277</td>\n",
       "    </tr>\n",
       "    <tr>\n",
       "      <th>568626</th>\n",
       "      <td>-0.178925</td>\n",
       "      <td>0.094653</td>\n",
       "      <td>-0.324250</td>\n",
       "      <td>0.623597</td>\n",
       "      <td>-0.085858</td>\n",
       "      <td>-0.048062</td>\n",
       "      <td>-0.112045</td>\n",
       "      <td>0.096040</td>\n",
       "      <td>-0.344357</td>\n",
       "      <td>-0.510553</td>\n",
       "      <td>...</td>\n",
       "      <td>-0.010105</td>\n",
       "      <td>0.074520</td>\n",
       "      <td>-0.000475</td>\n",
       "      <td>-0.003517</td>\n",
       "      <td>0.103751</td>\n",
       "      <td>-0.074663</td>\n",
       "      <td>0.003627</td>\n",
       "      <td>-0.039289</td>\n",
       "      <td>-0.006835</td>\n",
       "      <td>0.000801</td>\n",
       "    </tr>\n",
       "    <tr>\n",
       "      <th>568627</th>\n",
       "      <td>-0.090946</td>\n",
       "      <td>0.058546</td>\n",
       "      <td>-0.165016</td>\n",
       "      <td>0.433059</td>\n",
       "      <td>-0.034142</td>\n",
       "      <td>-0.014017</td>\n",
       "      <td>-0.054440</td>\n",
       "      <td>0.048096</td>\n",
       "      <td>-0.317515</td>\n",
       "      <td>-0.185480</td>\n",
       "      <td>...</td>\n",
       "      <td>-0.008571</td>\n",
       "      <td>0.046303</td>\n",
       "      <td>0.089811</td>\n",
       "      <td>-0.005078</td>\n",
       "      <td>-0.026050</td>\n",
       "      <td>0.008918</td>\n",
       "      <td>0.144817</td>\n",
       "      <td>-0.031130</td>\n",
       "      <td>-0.029570</td>\n",
       "      <td>0.001547</td>\n",
       "    </tr>\n",
       "    <tr>\n",
       "      <th>568628</th>\n",
       "      <td>0.002539</td>\n",
       "      <td>0.021426</td>\n",
       "      <td>-0.088325</td>\n",
       "      <td>0.118850</td>\n",
       "      <td>-0.002449</td>\n",
       "      <td>-0.015466</td>\n",
       "      <td>-0.016792</td>\n",
       "      <td>0.007800</td>\n",
       "      <td>-0.085127</td>\n",
       "      <td>-0.165176</td>\n",
       "      <td>...</td>\n",
       "      <td>0.003405</td>\n",
       "      <td>0.011650</td>\n",
       "      <td>0.015886</td>\n",
       "      <td>-0.006265</td>\n",
       "      <td>0.076498</td>\n",
       "      <td>0.054868</td>\n",
       "      <td>0.037878</td>\n",
       "      <td>0.011209</td>\n",
       "      <td>0.006762</td>\n",
       "      <td>0.002019</td>\n",
       "    </tr>\n",
       "    <tr>\n",
       "      <th>568629</th>\n",
       "      <td>0.030978</td>\n",
       "      <td>0.024111</td>\n",
       "      <td>-0.092384</td>\n",
       "      <td>0.143517</td>\n",
       "      <td>0.017006</td>\n",
       "      <td>-0.022501</td>\n",
       "      <td>0.003930</td>\n",
       "      <td>-0.001446</td>\n",
       "      <td>0.069158</td>\n",
       "      <td>-0.118547</td>\n",
       "      <td>...</td>\n",
       "      <td>-0.004031</td>\n",
       "      <td>-0.011093</td>\n",
       "      <td>-0.076020</td>\n",
       "      <td>-0.000687</td>\n",
       "      <td>-0.009149</td>\n",
       "      <td>0.028257</td>\n",
       "      <td>-0.158290</td>\n",
       "      <td>0.001247</td>\n",
       "      <td>0.002673</td>\n",
       "      <td>0.000084</td>\n",
       "    </tr>\n",
       "  </tbody>\n",
       "</table>\n",
       "<p>568630 rows × 29 columns</p>\n",
       "</div>"
      ],
      "text/plain": [
       "              V1        V2        V3        V4        V5        V6        V7  \\\n",
       "0      -0.024107 -0.001001  0.052485  0.081667 -0.002974  0.006308  0.001987   \n",
       "1       0.021129  0.003660  0.003445  0.026557  0.000528 -0.001124 -0.000653   \n",
       "2      -0.024081 -0.018430  0.036693  0.022505 -0.004424  0.024563  0.006563   \n",
       "3      -0.017130 -0.002547  0.037102 -0.051157 -0.000091  0.017015  0.001970   \n",
       "4      -0.020533  0.012071  0.032048  0.023883 -0.003580  0.001309  0.004917   \n",
       "...          ...       ...       ...       ...       ...       ...       ...   \n",
       "568625 -0.198184  0.097552 -0.278165  0.518283 -0.087268 -0.037136 -0.118450   \n",
       "568626 -0.178925  0.094653 -0.324250  0.623597 -0.085858 -0.048062 -0.112045   \n",
       "568627 -0.090946  0.058546 -0.165016  0.433059 -0.034142 -0.014017 -0.054440   \n",
       "568628  0.002539  0.021426 -0.088325  0.118850 -0.002449 -0.015466 -0.016792   \n",
       "568629  0.030978  0.024111 -0.092384  0.143517  0.017006 -0.022501  0.003930   \n",
       "\n",
       "              V8        V9       V10  ...       V20       V21       V22  \\\n",
       "0       0.001348  0.023327  0.003693  ...  0.004613 -0.000526  0.025412   \n",
       "1       0.001162 -0.016379 -0.006791  ... -0.001268 -0.006482 -0.058416   \n",
       "2       0.003383 -0.097124  0.008445  ...  0.009633  0.007120  0.070582   \n",
       "3       0.005155 -0.088940 -0.002235  ... -0.003817 -0.003109  0.000482   \n",
       "4      -0.003695  0.052436  0.030627  ...  0.007497 -0.000271  0.073015   \n",
       "...          ...       ...       ...  ...       ...       ...       ...   \n",
       "568625  0.059652 -0.383488 -0.523990  ... -0.002571  0.032772 -0.014387   \n",
       "568626  0.096040 -0.344357 -0.510553  ... -0.010105  0.074520 -0.000475   \n",
       "568627  0.048096 -0.317515 -0.185480  ... -0.008571  0.046303  0.089811   \n",
       "568628  0.007800 -0.085127 -0.165176  ...  0.003405  0.011650  0.015886   \n",
       "568629 -0.001446  0.069158 -0.118547  ... -0.004031 -0.011093 -0.076020   \n",
       "\n",
       "             V23       V24       V25       V26       V27       V28       V29  \n",
       "0      -0.002466  0.014599  0.012485 -0.053766  0.004225 -0.000622  0.005824  \n",
       "1       0.002261 -0.074129  0.016237  0.035792 -0.000284  0.000435  0.000105  \n",
       "2       0.020296 -0.150349 -0.031824 -0.039546 -0.001751 -0.001765  0.014739  \n",
       "3      -0.004247 -0.256421  0.062880 -0.063096  0.001984  0.001816  0.004807  \n",
       "4      -0.003068  0.030814 -0.020010  0.142804  0.006941  0.006356  0.002724  \n",
       "...          ...       ...       ...       ...       ...       ...       ...  \n",
       "568625  0.007168  0.141557 -0.054774 -0.116727 -0.029234 -0.005546  0.001277  \n",
       "568626 -0.003517  0.103751 -0.074663  0.003627 -0.039289 -0.006835  0.000801  \n",
       "568627 -0.005078 -0.026050  0.008918  0.144817 -0.031130 -0.029570  0.001547  \n",
       "568628 -0.006265  0.076498  0.054868  0.037878  0.011209  0.006762  0.002019  \n",
       "568629 -0.000687 -0.009149  0.028257 -0.158290  0.001247  0.002673  0.000084  \n",
       "\n",
       "[568630 rows x 29 columns]"
      ]
     },
     "execution_count": 8,
     "metadata": {},
     "output_type": "execute_result"
    }
   ],
   "source": [
    "X"
   ]
  },
  {
   "cell_type": "code",
   "execution_count": 9,
   "metadata": {},
   "outputs": [
    {
     "data": {
      "text/plain": [
       "(568630, 29)"
      ]
     },
     "execution_count": 9,
     "metadata": {},
     "output_type": "execute_result"
    }
   ],
   "source": [
    "X.shape"
   ]
  },
  {
   "cell_type": "code",
   "execution_count": 10,
   "metadata": {},
   "outputs": [
    {
     "data": {
      "text/plain": [
       "(568630, 1)"
      ]
     },
     "execution_count": 10,
     "metadata": {},
     "output_type": "execute_result"
    }
   ],
   "source": [
    "Y.shape"
   ]
  },
  {
   "attachments": {},
   "cell_type": "markdown",
   "metadata": {},
   "source": [
    "Splitting the data into Training and Validation Set"
   ]
  },
  {
   "cell_type": "code",
   "execution_count": 11,
   "metadata": {},
   "outputs": [],
   "source": [
    "X_train,X_test,Y_train,Y_test=train_test_split(X,Y,test_size=0.2,random_state=42)"
   ]
  },
  {
   "attachments": {},
   "cell_type": "markdown",
   "metadata": {},
   "source": [
    "Fitting the XGBoost Model and Evaluating the Accuracy"
   ]
  },
  {
   "cell_type": "code",
   "execution_count": 20,
   "metadata": {},
   "outputs": [],
   "source": [
    "XG_Boost = xgb.XGBClassifier()\n",
    "XG_Boost.fit(X_train, Y_train)\n",
    "XG_Boost.save_model('XGBoost.json')\n",
    "Y_train_predicted = XG_Boost.predict(X_train)\n",
    "Y_test_predicted = XG_Boost.predict(X_test)"
   ]
  },
  {
   "cell_type": "code",
   "execution_count": 21,
   "metadata": {},
   "outputs": [],
   "source": [
    "Training_accuracy_XG_Boost = XG_Boost.score(X_train, Y_train)\n",
    "Testing_accuracy_XG_Boost = XG_Boost.score(X_test, Y_test)"
   ]
  },
  {
   "cell_type": "code",
   "execution_count": 22,
   "metadata": {},
   "outputs": [
    {
     "name": "stdout",
     "output_type": "stream",
     "text": [
      " Training accuracy of XGBoost : 100.00%\n",
      " Testing accuracy of XGBoost : 99.99%\n"
     ]
    }
   ],
   "source": [
    "print(\" Training accuracy of XGBoost : {:.2f}%\".format(Training_accuracy_XG_Boost * 100))\n",
    "print(\" Testing accuracy of XGBoost : {:.2f}%\".format(Testing_accuracy_XG_Boost * 100))"
   ]
  },
  {
   "attachments": {},
   "cell_type": "markdown",
   "metadata": {},
   "source": [
    "Fitting the Light Gradient Boost [ LGB ] Model and Evaluating the Accuracy"
   ]
  },
  {
   "cell_type": "code",
   "execution_count": 23,
   "metadata": {},
   "outputs": [
    {
     "name": "stderr",
     "output_type": "stream",
     "text": [
      "/home/ibad/anaconda3/envs/ML/lib/python3.10/site-packages/sklearn/preprocessing/_label.py:97: DataConversionWarning: A column-vector y was passed when a 1d array was expected. Please change the shape of y to (n_samples, ), for example using ravel().\n",
      "  y = column_or_1d(y, warn=True)\n",
      "/home/ibad/anaconda3/envs/ML/lib/python3.10/site-packages/sklearn/preprocessing/_label.py:132: DataConversionWarning: A column-vector y was passed when a 1d array was expected. Please change the shape of y to (n_samples, ), for example using ravel().\n",
      "  y = column_or_1d(y, dtype=self.classes_.dtype, warn=True)\n"
     ]
    }
   ],
   "source": [
    "Light_GB = lgb.LGBMClassifier()\n",
    "Light_GB.fit(X_train, Y_train)\n",
    "Y_train_predicted = Light_GB.predict(X_train)\n",
    "Y_test_predicted = Light_GB.predict(X_test)\n"
   ]
  },
  {
   "cell_type": "code",
   "execution_count": 24,
   "metadata": {},
   "outputs": [],
   "source": [
    "Training_accuracy_Light_GB= Light_GB.score(X_train, Y_train)\n",
    "Testing_accuracy_Light_GB = Light_GB.score(X_test, Y_test)"
   ]
  },
  {
   "cell_type": "code",
   "execution_count": 25,
   "metadata": {},
   "outputs": [
    {
     "name": "stdout",
     "output_type": "stream",
     "text": [
      " Training accuracy of Light_GB : 99.96%\n",
      " Testing accuracy of Light_GB : 99.94%\n"
     ]
    }
   ],
   "source": [
    "print(\" Training accuracy of Light_GB : {:.2f}%\".format(Training_accuracy_Light_GB * 100))\n",
    "print(\" Testing accuracy of Light_GB : {:.2f}%\".format(Testing_accuracy_Light_GB * 100))"
   ]
  },
  {
   "attachments": {},
   "cell_type": "markdown",
   "metadata": {},
   "source": [
    "Passing Data as Input and Printing the Output"
   ]
  },
  {
   "cell_type": "code",
   "execution_count": 27,
   "metadata": {},
   "outputs": [],
   "source": [
    "# input_data = (-1.359807134,\t-0.072781173,\t2.536346738,\t1.378155224,\t-0.33832077,\t0.462387778,\t0.239598554,\t0.098697901,\t0.36378697,\t0.090794172,\t-0.551599533,\t-0.617800856,\t-0.991389847,\t-0.311169354,\t1.468176972,\t-0.470400525,\t0.207971242,\t0.02579058,\t0.40399296,\t0.251412098,\t-0.018306778,\t0.277837576,\t-0.11047391,\t0.066928075,\t0.128539358,\t-0.189114844,\t0.133558377,\t-0.021053053 , 149.62\n",
    "# )\n",
    "\n",
    "# input_data_as_numpy_array= np.asarray(input_data)\n",
    "\n",
    "# input_data_reshaped = input_data_as_numpy_array.reshape(1,-1)\n",
    "\n",
    "# prediction = model_NN.predict(input_data_reshaped)\n",
    "# print(prediction)\n",
    "\n",
    "# if (prediction[0]== 0):\n",
    "#   print('The Transaction is not FRAUDULENT')\n",
    "# else:\n",
    "#   print('The Transaction is FRAUDULENT')"
   ]
  }
 ],
 "metadata": {
  "kernelspec": {
   "display_name": "demo",
   "language": "python",
   "name": "python3"
  },
  "language_info": {
   "codemirror_mode": {
    "name": "ipython",
    "version": 3
   },
   "file_extension": ".py",
   "mimetype": "text/x-python",
   "name": "python",
   "nbconvert_exporter": "python",
   "pygments_lexer": "ipython3",
   "version": "3.10.11"
  },
  "orig_nbformat": 4
 },
 "nbformat": 4,
 "nbformat_minor": 2
}
